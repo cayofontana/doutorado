{
  "nbformat": 4,
  "nbformat_minor": 0,
  "metadata": {
    "colab": {
      "name": "vosk-api_script.ipynb",
      "provenance": [],
      "collapsed_sections": [],
      "authorship_tag": "ABX9TyMS0jfEpCUvdHaEnkdgK9Yr",
      "include_colab_link": true
    },
    "kernelspec": {
      "name": "python3",
      "display_name": "Python 3"
    },
    "language_info": {
      "name": "python"
    }
  },
  "cells": [
    {
      "cell_type": "markdown",
      "metadata": {
        "id": "view-in-github",
        "colab_type": "text"
      },
      "source": [
        "<a href=\"https://colab.research.google.com/github/cayofontana/doutorado/blob/master/disciplinas/deep_learning/trabalho/vosk_api_script.ipynb\" target=\"_parent\"><img src=\"https://colab.research.google.com/assets/colab-badge.svg\" alt=\"Open In Colab\"/></a>"
      ]
    },
    {
      "cell_type": "markdown",
      "metadata": {
        "id": "fTkvQGs2PwOE"
      },
      "source": [
        "Entre na home do usuário."
      ]
    },
    {
      "cell_type": "code",
      "metadata": {
        "id": "5md5Cbde6ew9"
      },
      "source": [
        "cd /home/"
      ],
      "execution_count": null,
      "outputs": []
    },
    {
      "cell_type": "markdown",
      "metadata": {
        "id": "yjyr4voHP4hx"
      },
      "source": [
        "Certifique os seguintes requerimentos:\n",
        "\n",
        "python versão: 3.5-3.9 (Linux), 3.6-3.7 (ARM), 3.8-3.9(OSX), 3.5-3.9 64-bit (Windows);\n",
        "\n",
        "pip versão: 19.0 ou mais recente.\n"
      ]
    },
    {
      "cell_type": "code",
      "metadata": {
        "id": "LPi8HjQt7YWq"
      },
      "source": [
        "!python --version"
      ],
      "execution_count": null,
      "outputs": []
    },
    {
      "cell_type": "code",
      "metadata": {
        "id": "DLYhwyPG71Xl"
      },
      "source": [
        "!pip3 --version"
      ],
      "execution_count": null,
      "outputs": []
    },
    {
      "cell_type": "markdown",
      "metadata": {
        "id": "dVhhNwnaQeix"
      },
      "source": [
        "Instalando a vosk-api com o pip3"
      ]
    },
    {
      "cell_type": "code",
      "metadata": {
        "id": "5xXVVT8Q83EU"
      },
      "source": [
        "!pip3 -v install vosk"
      ],
      "execution_count": null,
      "outputs": []
    },
    {
      "cell_type": "markdown",
      "metadata": {
        "id": "YPt11cXkQlZl"
      },
      "source": [
        "Obtendo o projeto kaldi (necessário para utilizar a vosk-api) pelo github."
      ]
    },
    {
      "cell_type": "code",
      "metadata": {
        "id": "ERZLnR88_4-I"
      },
      "source": [
        "!git clone https://github.com/kaldi-asr/kaldi.git kaldi --origin upstream"
      ],
      "execution_count": null,
      "outputs": []
    },
    {
      "cell_type": "markdown",
      "metadata": {
        "id": "H1gDidKpQw5z"
      },
      "source": [
        "Atualizando o projeto kaldi (caso haja)."
      ]
    },
    {
      "cell_type": "code",
      "metadata": {
        "id": "7qKlXOu_AEuc"
      },
      "source": [
        "!cd kaldi/ && git pull"
      ],
      "execution_count": null,
      "outputs": []
    },
    {
      "cell_type": "code",
      "metadata": {
        "id": "pIqfgSbRAJ4N"
      },
      "source": [
        "cd kaldi/tools/"
      ],
      "execution_count": null,
      "outputs": []
    },
    {
      "cell_type": "markdown",
      "metadata": {
        "id": "i53FEgF3Q4Cq"
      },
      "source": [
        "A criação do arquivo .use_default_python é necessária quando a versão default do python é diferente da 2.7."
      ]
    },
    {
      "cell_type": "code",
      "metadata": {
        "id": "Lcdcpt_BBnXa"
      },
      "source": [
        "!touch /home/kaldi/tools/python/.use_default_python"
      ],
      "execution_count": null,
      "outputs": []
    },
    {
      "cell_type": "markdown",
      "metadata": {
        "id": "mZfvxKlGRODR"
      },
      "source": [
        "Checagem e instalação de dependências."
      ]
    },
    {
      "cell_type": "code",
      "metadata": {
        "id": "2hnmG8RdBNqR"
      },
      "source": [
        "!./extras/check_dependencies.sh"
      ],
      "execution_count": null,
      "outputs": []
    },
    {
      "cell_type": "code",
      "metadata": {
        "id": "3ZZisNsKCNd0"
      },
      "source": [
        "!extras/install_mkl.sh"
      ],
      "execution_count": null,
      "outputs": []
    },
    {
      "cell_type": "code",
      "metadata": {
        "id": "z5xAojxbC-Ey"
      },
      "source": [
        "!sudo apt-get install automake autoconf sox libtool subversion"
      ],
      "execution_count": null,
      "outputs": []
    },
    {
      "cell_type": "code",
      "metadata": {
        "id": "DtMOIsLgEmls"
      },
      "source": [
        "!extras/check_dependencies.sh"
      ],
      "execution_count": null,
      "outputs": []
    },
    {
      "cell_type": "markdown",
      "metadata": {
        "id": "M2aBUqWQR1fZ"
      },
      "source": [
        "Compilação do Kaldi."
      ]
    },
    {
      "cell_type": "code",
      "metadata": {
        "id": "kg4GxT7SEiqd"
      },
      "source": [
        "!cd /home/kaldi/src"
      ],
      "execution_count": null,
      "outputs": []
    },
    {
      "cell_type": "code",
      "metadata": {
        "id": "5g6gt7bhEyTq"
      },
      "source": [
        "!make"
      ],
      "execution_count": null,
      "outputs": []
    },
    {
      "cell_type": "markdown",
      "metadata": {
        "id": "9MzKRaNOR75a"
      },
      "source": [
        "Obtendo o projeto vosk-api pelo github, para rodar um exemplo."
      ]
    },
    {
      "cell_type": "code",
      "metadata": {
        "id": "-b2PK_l69DzA"
      },
      "source": [
        "!git clone https://github.com/alphacep/vosk-api"
      ],
      "execution_count": null,
      "outputs": []
    },
    {
      "cell_type": "code",
      "metadata": {
        "id": "_uca4vv4DcyI"
      },
      "source": [
        "cd /home/vosk-api/python/example/"
      ],
      "execution_count": null,
      "outputs": []
    },
    {
      "cell_type": "markdown",
      "metadata": {
        "id": "-N9tfp8SSNw5"
      },
      "source": [
        "Obtendo um modelo para processamento de voz em pt."
      ]
    },
    {
      "cell_type": "code",
      "metadata": {
        "id": "KZjtUF82OYEc"
      },
      "source": [
        "!wget https://alphacephei.com/kaldi/models/vosk-model-small-pt-0.3.zip"
      ],
      "execution_count": null,
      "outputs": []
    },
    {
      "cell_type": "code",
      "metadata": {
        "id": "dgRlOJHUDt3U"
      },
      "source": [
        "!unzip vosk-model-small-pt-0.3.zip && mv vosk-model-small-pt-0.3 model"
      ],
      "execution_count": null,
      "outputs": []
    },
    {
      "cell_type": "markdown",
      "metadata": {
        "id": "mUkpYZEPSvyq"
      },
      "source": [
        "Instalando o sounddevice."
      ]
    },
    {
      "cell_type": "code",
      "metadata": {
        "id": "4bGqItq0O838"
      },
      "source": [
        "!pip3 install -U sounddevice"
      ],
      "execution_count": null,
      "outputs": []
    },
    {
      "cell_type": "markdown",
      "metadata": {
        "id": "Yo6Vaz6gS0ip"
      },
      "source": [
        "Instalando o libportaudio2"
      ]
    },
    {
      "cell_type": "code",
      "metadata": {
        "id": "ayGIsU1xPMLs"
      },
      "source": [
        "!sudo apt-get install libportaudio2"
      ],
      "execution_count": null,
      "outputs": []
    },
    {
      "cell_type": "markdown",
      "metadata": {
        "id": "5FQDoADoS5Wn"
      },
      "source": [
        "Executando um teste."
      ]
    },
    {
      "cell_type": "code",
      "metadata": {
        "id": "ddubZN0yDymv"
      },
      "source": [
        "!python test_simple.py test.wav"
      ],
      "execution_count": null,
      "outputs": []
    }
  ]
}